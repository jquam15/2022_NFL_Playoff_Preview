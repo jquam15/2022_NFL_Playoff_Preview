{
 "cells": [
  {
   "cell_type": "code",
   "execution_count": 1,
   "metadata": {},
   "outputs": [],
   "source": [
    "import pandas as pd\n",
    "import numpy as np\n",
    "import requests\n",
    "import os\n",
    "from bs4 import BeautifulSoup\n",
    "import time\n",
    "import random"
   ]
  },
  {
   "cell_type": "code",
   "execution_count": 2,
   "metadata": {},
   "outputs": [],
   "source": [
    "#https://www.nfl.com/stats/team-stats/offense/passing/2020/reg/all"
   ]
  },
  {
   "cell_type": "code",
   "execution_count": 3,
   "metadata": {},
   "outputs": [],
   "source": [
    "#side is the side of the football data is from (offense, defense, special teams)\n",
    "#category is the type of play (passing, rushing, receiving, downs)\n",
    "#year is the year of the nfl season\n",
    "#all data is scraped from nfl.com (specifically their team stats)\n",
    "#this function grabs an html output given a url and writes it to a file---then it reads the file and returns a\n",
    "#BeautifulSoup Object\n",
    "def scrape_stats(side, category, year):\n",
    "    file = side + category + str(year)\n",
    "    if not os.path.exists(file):\n",
    "        url = f\"https://www.nfl.com/stats/team-stats/{side}/{category}/{year}/reg/all\"\n",
    "        r = requests.get(url)\n",
    "        r.raise_for_status()\n",
    "        with open(file,\"w\") as f:\n",
    "            f.write(r.text)\n",
    "            \n",
    "    with open(file) as f:\n",
    "        return BeautifulSoup(f.read(), \"html.parser\")"
   ]
  },
  {
   "cell_type": "code",
   "execution_count": 4,
   "metadata": {},
   "outputs": [],
   "source": [
    "#same variables as above function\n",
    "#this function calls scrape_stats to get a BeautifulSoup object and then uses the html to create a pandas df\n",
    "def make_df(side, category, year):\n",
    "    page = scrape_stats(side, category, year)\n",
    "    tables = page.find_all(\"table\")\n",
    "    assert len(tables) == 1 #there is only one table per url---make sure site layout hasn't changed in the future\n",
    "    tbl = tables[0]\n",
    "    \n",
    "    headers = tbl.find_all(\"th\") #the table headers correspond to the column names\n",
    "    columns = [] #this is a list of the columns for the data table---use this later to make pandas df\n",
    "    for header in headers:\n",
    "        text = header.getText() #this will be just the column name without the html junk around it\n",
    "        columns.append(text)\n",
    "        \n",
    "    data = tbl.find_all(\"td\")\n",
    "    contents = [] #this is a list of lists that contains contents for the future pandas df (contents for all teams)\n",
    "    for i in range(0, len(data), len(columns)): #iterate over data in groups---each i is beginning of a new team\n",
    "        chunk = data[i:i+len(columns)] #this is a list with each row of the chunk\n",
    "        l = [] #list contents for a specific team\n",
    "        for j in range(len(chunk)): \n",
    "            l.append(chunk[j].getText().split()[0]) #this string manipulation extracts just the number or team name\n",
    "\n",
    "        contents.append(l)\n",
    "        \n",
    "    df = pd.DataFrame(contents, columns=columns)\n",
    "    df[\"Year\"] = year\n",
    "    return df"
   ]
  },
  {
   "cell_type": "code",
   "execution_count": 5,
   "metadata": {},
   "outputs": [],
   "source": [
    "#this function combines the dfs from each year to make a df with all the years\n",
    "def concat_df(start_year, side, category):\n",
    "    df = make_df(side, category, start_year)\n",
    "    for year in range(start_year + 1, 2020):\n",
    "        df_year = make_df(side, category, year)\n",
    "        df = pd.concat([df, df_year], axis=0)\n",
    "        time.sleep(.5) #be considerate about web scraping\n",
    "    df = df.reset_index(drop=True)\n",
    "    return df"
   ]
  },
  {
   "cell_type": "code",
   "execution_count": 6,
   "metadata": {},
   "outputs": [],
   "source": [
    "#this function adds a year to the existing dataframe for a side and category\n",
    "def add_year(df, side, category, year):\n",
    "    df2add = make_df(side, category, year)\n",
    "    df = pd.concat([df, df2add], axis=0) #combines existing df with df for the year that needs to be added\n",
    "    df = df.reset_index(drop=True)\n",
    "    return df  "
   ]
  },
  {
   "cell_type": "code",
   "execution_count": 7,
   "metadata": {},
   "outputs": [
    {
     "data": {
      "text/plain": [
       "61.29124402999878"
      ]
     },
     "execution_count": 7,
     "metadata": {},
     "output_type": "execute_result"
    }
   ],
   "source": [
    "#creates passing data\n",
    "t0 = time.time()\n",
    "passing = concat_df(1971, \"offense\", \"passing\")\n",
    "t1 = time.time()\n",
    "t1-t0"
   ]
  },
  {
   "cell_type": "code",
   "execution_count": 8,
   "metadata": {},
   "outputs": [
    {
     "data": {
      "text/plain": [
       "60.37006115913391"
      ]
     },
     "execution_count": 8,
     "metadata": {},
     "output_type": "execute_result"
    }
   ],
   "source": [
    "#creates rushing data\n",
    "t0 = time.time()\n",
    "rushing = concat_df(1971, \"offense\", \"rushing\")\n",
    "t1 = time.time()\n",
    "t1-t0"
   ]
  },
  {
   "cell_type": "code",
   "execution_count": 9,
   "metadata": {},
   "outputs": [
    {
     "data": {
      "text/plain": [
       "58.67981815338135"
      ]
     },
     "execution_count": 9,
     "metadata": {},
     "output_type": "execute_result"
    }
   ],
   "source": [
    "#creates receving data\n",
    "t0 = time.time()\n",
    "receiving = concat_df(1971, \"offense\", \"receiving\")\n",
    "t1 = time.time()\n",
    "t1-t0"
   ]
  },
  {
   "cell_type": "code",
   "execution_count": 39,
   "metadata": {},
   "outputs": [
    {
     "data": {
      "text/plain": [
       "61.02522039413452"
      ]
     },
     "execution_count": 39,
     "metadata": {},
     "output_type": "execute_result"
    }
   ],
   "source": [
    "#creates offensive downs data\n",
    "t0 = time.time()\n",
    "downs = concat_df(1971, \"offense\", \"downs\")\n",
    "t1 = time.time()\n",
    "t1-t0"
   ]
  },
  {
   "cell_type": "code",
   "execution_count": 10,
   "metadata": {},
   "outputs": [
    {
     "data": {
      "text/plain": [
       "28.111320972442627"
      ]
     },
     "execution_count": 10,
     "metadata": {},
     "output_type": "execute_result"
    }
   ],
   "source": [
    "#creates defensive passing data\n",
    "t0 = time.time()\n",
    "d_passing = concat_df(1971, \"defense\", \"passing\")\n",
    "t1 = time.time()\n",
    "t1-t0"
   ]
  },
  {
   "cell_type": "code",
   "execution_count": 11,
   "metadata": {},
   "outputs": [
    {
     "data": {
      "text/plain": [
       "60.12420153617859"
      ]
     },
     "execution_count": 11,
     "metadata": {},
     "output_type": "execute_result"
    }
   ],
   "source": [
    "#creates defensive rushing data\n",
    "t0 = time.time()\n",
    "d_rushing = concat_df(1971, \"defense\", \"rushing\")\n",
    "t1 = time.time()\n",
    "t1-t0"
   ]
  },
  {
   "cell_type": "code",
   "execution_count": 12,
   "metadata": {},
   "outputs": [
    {
     "data": {
      "text/plain": [
       "59.299351930618286"
      ]
     },
     "execution_count": 12,
     "metadata": {},
     "output_type": "execute_result"
    }
   ],
   "source": [
    "#creates defensive receiving data\n",
    "t0 = time.time()\n",
    "d_receiving = concat_df(1971, \"defense\", \"receiving\")\n",
    "t1 = time.time()\n",
    "t1-t0"
   ]
  },
  {
   "cell_type": "code",
   "execution_count": 28,
   "metadata": {},
   "outputs": [
    {
     "data": {
      "text/plain": [
       "58.96878361701965"
      ]
     },
     "execution_count": 28,
     "metadata": {},
     "output_type": "execute_result"
    }
   ],
   "source": [
    "#creates defensive fumble data\n",
    "t0 = time.time()\n",
    "fumbles = concat_df(1971, \"defense\", \"fumbles\")\n",
    "t1 = time.time()\n",
    "t1-t0"
   ]
  },
  {
   "cell_type": "code",
   "execution_count": 30,
   "metadata": {},
   "outputs": [
    {
     "data": {
      "text/plain": [
       "58.44851207733154"
      ]
     },
     "execution_count": 30,
     "metadata": {},
     "output_type": "execute_result"
    }
   ],
   "source": [
    "#creates defensive interception data\n",
    "t0 = time.time()\n",
    "interceptions = concat_df(1971, \"defense\", \"interceptions\")\n",
    "t1 = time.time()\n",
    "t1-t0"
   ]
  },
  {
   "cell_type": "code",
   "execution_count": 43,
   "metadata": {},
   "outputs": [
    {
     "data": {
      "text/plain": [
       "58.972487449645996"
      ]
     },
     "execution_count": 43,
     "metadata": {},
     "output_type": "execute_result"
    }
   ],
   "source": [
    "#creates defensive downs data\n",
    "t0 = time.time()\n",
    "d_downs = concat_df(1971, \"defense\", \"downs\")\n",
    "t1 = time.time()\n",
    "t1-t0"
   ]
  },
  {
   "cell_type": "code",
   "execution_count": 36,
   "metadata": {},
   "outputs": [
    {
     "data": {
      "text/html": [
       "<div>\n",
       "<style scoped>\n",
       "    .dataframe tbody tr th:only-of-type {\n",
       "        vertical-align: middle;\n",
       "    }\n",
       "\n",
       "    .dataframe tbody tr th {\n",
       "        vertical-align: top;\n",
       "    }\n",
       "\n",
       "    .dataframe thead th {\n",
       "        text-align: right;\n",
       "    }\n",
       "</style>\n",
       "<table border=\"1\" class=\"dataframe\">\n",
       "  <thead>\n",
       "    <tr style=\"text-align: right;\">\n",
       "      <th></th>\n",
       "      <th>Team</th>\n",
       "      <th>FF</th>\n",
       "      <th>FR</th>\n",
       "      <th>FR TD</th>\n",
       "      <th>Rec FUM</th>\n",
       "      <th>Rush FUM</th>\n",
       "      <th>Year</th>\n",
       "      <th>INT</th>\n",
       "      <th>INT TD</th>\n",
       "      <th>INT Yds</th>\n",
       "      <th>Lng</th>\n",
       "    </tr>\n",
       "  </thead>\n",
       "  <tbody>\n",
       "    <tr>\n",
       "      <th>0</th>\n",
       "      <td>Redskins</td>\n",
       "      <td>0</td>\n",
       "      <td>0</td>\n",
       "      <td>0</td>\n",
       "      <td>0</td>\n",
       "      <td>0</td>\n",
       "      <td>1971</td>\n",
       "      <td>29</td>\n",
       "      <td>5</td>\n",
       "      <td>480</td>\n",
       "      <td>0</td>\n",
       "    </tr>\n",
       "    <tr>\n",
       "      <th>1</th>\n",
       "      <td>49ers</td>\n",
       "      <td>0</td>\n",
       "      <td>0</td>\n",
       "      <td>0</td>\n",
       "      <td>0</td>\n",
       "      <td>0</td>\n",
       "      <td>1971</td>\n",
       "      <td>14</td>\n",
       "      <td>0</td>\n",
       "      <td>186</td>\n",
       "      <td>0</td>\n",
       "    </tr>\n",
       "    <tr>\n",
       "      <th>2</th>\n",
       "      <td>Chargers</td>\n",
       "      <td>0</td>\n",
       "      <td>0</td>\n",
       "      <td>0</td>\n",
       "      <td>0</td>\n",
       "      <td>0</td>\n",
       "      <td>1971</td>\n",
       "      <td>22</td>\n",
       "      <td>2</td>\n",
       "      <td>317</td>\n",
       "      <td>0</td>\n",
       "    </tr>\n",
       "    <tr>\n",
       "      <th>3</th>\n",
       "      <td>Steelers</td>\n",
       "      <td>0</td>\n",
       "      <td>0</td>\n",
       "      <td>0</td>\n",
       "      <td>0</td>\n",
       "      <td>0</td>\n",
       "      <td>1971</td>\n",
       "      <td>17</td>\n",
       "      <td>1</td>\n",
       "      <td>246</td>\n",
       "      <td>0</td>\n",
       "    </tr>\n",
       "    <tr>\n",
       "      <th>4</th>\n",
       "      <td>Cardinals</td>\n",
       "      <td>0</td>\n",
       "      <td>0</td>\n",
       "      <td>0</td>\n",
       "      <td>0</td>\n",
       "      <td>0</td>\n",
       "      <td>1971</td>\n",
       "      <td>17</td>\n",
       "      <td>1</td>\n",
       "      <td>191</td>\n",
       "      <td>0</td>\n",
       "    </tr>\n",
       "    <tr>\n",
       "      <th>...</th>\n",
       "      <td>...</td>\n",
       "      <td>...</td>\n",
       "      <td>...</td>\n",
       "      <td>...</td>\n",
       "      <td>...</td>\n",
       "      <td>...</td>\n",
       "      <td>...</td>\n",
       "      <td>...</td>\n",
       "      <td>...</td>\n",
       "      <td>...</td>\n",
       "      <td>...</td>\n",
       "    </tr>\n",
       "    <tr>\n",
       "      <th>1433</th>\n",
       "      <td>Bears</td>\n",
       "      <td>12</td>\n",
       "      <td>9</td>\n",
       "      <td>0</td>\n",
       "      <td>4</td>\n",
       "      <td>5</td>\n",
       "      <td>2019</td>\n",
       "      <td>10</td>\n",
       "      <td>1</td>\n",
       "      <td>157</td>\n",
       "      <td>59</td>\n",
       "    </tr>\n",
       "    <tr>\n",
       "      <th>1434</th>\n",
       "      <td>Panthers</td>\n",
       "      <td>8</td>\n",
       "      <td>7</td>\n",
       "      <td>1</td>\n",
       "      <td>0</td>\n",
       "      <td>5</td>\n",
       "      <td>2019</td>\n",
       "      <td>14</td>\n",
       "      <td>0</td>\n",
       "      <td>141</td>\n",
       "      <td>37</td>\n",
       "    </tr>\n",
       "    <tr>\n",
       "      <th>1435</th>\n",
       "      <td>Bills</td>\n",
       "      <td>16</td>\n",
       "      <td>9</td>\n",
       "      <td>0</td>\n",
       "      <td>9</td>\n",
       "      <td>6</td>\n",
       "      <td>2019</td>\n",
       "      <td>14</td>\n",
       "      <td>0</td>\n",
       "      <td>59</td>\n",
       "      <td>49</td>\n",
       "    </tr>\n",
       "    <tr>\n",
       "      <th>1436</th>\n",
       "      <td>Ravens</td>\n",
       "      <td>15</td>\n",
       "      <td>12</td>\n",
       "      <td>4</td>\n",
       "      <td>6</td>\n",
       "      <td>5</td>\n",
       "      <td>2019</td>\n",
       "      <td>13</td>\n",
       "      <td>2</td>\n",
       "      <td>259</td>\n",
       "      <td>89T</td>\n",
       "    </tr>\n",
       "    <tr>\n",
       "      <th>1437</th>\n",
       "      <td>Falcons</td>\n",
       "      <td>17</td>\n",
       "      <td>8</td>\n",
       "      <td>1</td>\n",
       "      <td>3</td>\n",
       "      <td>10</td>\n",
       "      <td>2019</td>\n",
       "      <td>12</td>\n",
       "      <td>1</td>\n",
       "      <td>130</td>\n",
       "      <td>27T</td>\n",
       "    </tr>\n",
       "  </tbody>\n",
       "</table>\n",
       "<p>1438 rows × 11 columns</p>\n",
       "</div>"
      ],
      "text/plain": [
       "           Team  FF  FR FR TD Rec FUM Rush FUM  Year INT INT TD INT Yds  Lng\n",
       "0      Redskins   0   0     0       0        0  1971  29      5     480    0\n",
       "1         49ers   0   0     0       0        0  1971  14      0     186    0\n",
       "2      Chargers   0   0     0       0        0  1971  22      2     317    0\n",
       "3      Steelers   0   0     0       0        0  1971  17      1     246    0\n",
       "4     Cardinals   0   0     0       0        0  1971  17      1     191    0\n",
       "...         ...  ..  ..   ...     ...      ...   ...  ..    ...     ...  ...\n",
       "1433      Bears  12   9     0       4        5  2019  10      1     157   59\n",
       "1434   Panthers   8   7     1       0        5  2019  14      0     141   37\n",
       "1435      Bills  16   9     0       9        6  2019  14      0      59   49\n",
       "1436     Ravens  15  12     4       6        5  2019  13      2     259  89T\n",
       "1437    Falcons  17   8     1       3       10  2019  12      1     130  27T\n",
       "\n",
       "[1438 rows x 11 columns]"
      ]
     },
     "execution_count": 36,
     "metadata": {},
     "output_type": "execute_result"
    }
   ],
   "source": [
    "forced_turnovers = pd.merge(fumbles, interceptions, on=[\"Team\", \"Year\"])\n",
    "forced_turnovers"
   ]
  },
  {
   "cell_type": "code",
   "execution_count": 42,
   "metadata": {},
   "outputs": [],
   "source": [
    "#writes offensive csv files\n",
    "if not os.path.exists(\"offensive_passing_stats.csv\"):\n",
    "    passing.to_csv(\"offensive_passing_stats.csv\", index = False)\n",
    "    \n",
    "if not os.path.exists(\"offensive_rushing_stats.csv\"):\n",
    "    rushing.to_csv(\"offensive_rushing_stats.csv\", index = False)\n",
    "\n",
    "if not os.path.exists(\"offensive_receiving_stats.csv\"):\n",
    "    receiving.to_csv(\"offensive_receiving_stats.csv\", index = False)  \n",
    "\n",
    "if not os.path.exists(\"offensive_downs.csv\"):\n",
    "    downs.to_csv(\"offensive_downs.csv\", index = False) "
   ]
  },
  {
   "cell_type": "code",
   "execution_count": 47,
   "metadata": {},
   "outputs": [],
   "source": [
    "#writes defensive csv files\n",
    "if not os.path.exists(\"defensive_passing_stats.csv\"):\n",
    "    d_passing.to_csv(\"defensive_passing_stats.csv\", index = False)\n",
    "    \n",
    "if not os.path.exists(\"defensive_rushing_stats.csv\"):\n",
    "    d_rushing.to_csv(\"defensive_rushing_stats.csv\", index = False)\n",
    "\n",
    "if not os.path.exists(\"defensive_receiving_stats.csv\"):\n",
    "    d_receiving.to_csv(\"defensive_receiving_stats.csv\", index = False)   \n",
    "\n",
    "if not os.path.exists(\"defensive_turnovers.csv\"):\n",
    "    forced_turnovers.to_csv(\"defensive_turnovers.csv\", index = False)   \n",
    "    \n",
    "if not os.path.exists(\"defensive_downs.csv\"):\n",
    "    d_downs.to_csv(\"defensive_downs.csv\", index = False)   "
   ]
  },
  {
   "cell_type": "code",
   "execution_count": 14,
   "metadata": {},
   "outputs": [],
   "source": [
    "#available offensive dfs are: passing, rushing, receiving, downs\n",
    "#available defensive dfs are: passing, rushing, receiving, turnovers, downs"
   ]
  }
 ],
 "metadata": {
  "kernelspec": {
   "display_name": "Python 3",
   "language": "python",
   "name": "python3"
  },
  "language_info": {
   "codemirror_mode": {
    "name": "ipython",
    "version": 3
   },
   "file_extension": ".py",
   "mimetype": "text/x-python",
   "name": "python",
   "nbconvert_exporter": "python",
   "pygments_lexer": "ipython3",
   "version": "3.9.0"
  }
 },
 "nbformat": 4,
 "nbformat_minor": 4
}
