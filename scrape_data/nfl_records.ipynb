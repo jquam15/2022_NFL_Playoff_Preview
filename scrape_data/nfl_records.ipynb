{
 "cells": [
  {
   "cell_type": "code",
   "execution_count": 1,
   "metadata": {},
   "outputs": [],
   "source": [
    "import pandas as pd\n",
    "import os"
   ]
  },
  {
   "cell_type": "code",
   "execution_count": 2,
   "metadata": {},
   "outputs": [],
   "source": [
    "#Team Records are downloaded to csv's from https://www.pro-football-reference.com/teams/min/index.htm\n",
    "#replace min with the team code"
   ]
  },
  {
   "cell_type": "code",
   "execution_count": 3,
   "metadata": {},
   "outputs": [],
   "source": [
    "#Team parameter is the NFL team's nickname---MUST START WITH CAPITAL (corresponds to the file name)\n",
    "#This function also modifies the loaded csv to get just the team name, year, wins, losses, and ties\n",
    "def make_df(team):\n",
    "    file = team + \".csv\"\n",
    "    df = pd.read_csv(file, encoding = 'windows-1252')\n",
    "    try:\n",
    "        df = df.loc[1:, \"Year\":\"T\"] #don't want to include 2020 since it isn't over yet\n",
    "    except KeyError:\n",
    "        pass\n",
    "    df = df.drop(columns = [\"Lg\"])\n",
    "    df = df.rename(columns={\"Tm\": \"Team\"})\n",
    "    df[\"Team\"] = team\n",
    "    try:\n",
    "        df = df[df[\"Year\"] >= 1971]\n",
    "    except KeyError:\n",
    "        pass\n",
    "    return df\n",
    "\n",
    "def show_df(team):\n",
    "    df = make_df(team)\n",
    "    return df.head()"
   ]
  },
  {
   "cell_type": "code",
   "execution_count": 4,
   "metadata": {},
   "outputs": [],
   "source": [
    "#Problem Cases\n",
    "lions = make_df(\"Lions\")\n",
    "lions = lions.rename(columns={str(lions.columns[0]): \"Year\"})\n",
    "lions = lions.loc[:, \"Year\": \"T\"]"
   ]
  },
  {
   "cell_type": "code",
   "execution_count": 5,
   "metadata": {},
   "outputs": [],
   "source": [
    "#NFC North: Packers, Bears, Vikings, Lions\n",
    "packers = make_df(\"Packers\")\n",
    "bears = make_df(\"Bears\")\n",
    "vikings = make_df(\"Vikings\")\n",
    "lions = lions"
   ]
  },
  {
   "cell_type": "code",
   "execution_count": 6,
   "metadata": {},
   "outputs": [],
   "source": [
    "l = [] #this is a list of the existing dfs to be looped through to make the final df \n",
    "#excludes Packers and Bears since these make the og df to concat with each additional df\n",
    "l.append(vikings)\n",
    "l.append(lions)"
   ]
  },
  {
   "cell_type": "code",
   "execution_count": 7,
   "metadata": {},
   "outputs": [],
   "source": [
    "records = pd.concat([packers, bears], axis=0)\n",
    "#records"
   ]
  },
  {
   "cell_type": "code",
   "execution_count": 8,
   "metadata": {},
   "outputs": [],
   "source": [
    "#NFC West: Seahawks, Cardinals, Rams, 49ers\n",
    "seahawks = make_df(\"Seahawks\")\n",
    "l.append(seahawks)\n",
    "cardinals = make_df(\"Cardinals\")\n",
    "l.append(cardinals)\n",
    "rams = make_df(\"Rams\")\n",
    "l.append(rams)\n",
    "sanfran = make_df(\"49ers\")\n",
    "l.append(sanfran)"
   ]
  },
  {
   "cell_type": "code",
   "execution_count": 9,
   "metadata": {},
   "outputs": [],
   "source": [
    "#NFC East: Cowboys (dal), Giants (nyg), Eagles (phi), Redskins (was)\n",
    "cowboys = make_df(\"Cowboys\")\n",
    "l.append(cowboys)\n",
    "giants = make_df(\"Giants\")\n",
    "l.append(giants)\n",
    "eagles = make_df(\"Eagles\")\n",
    "l.append(eagles)\n",
    "redskins = make_df(\"Redskins\")\n",
    "l.append(redskins)"
   ]
  },
  {
   "cell_type": "code",
   "execution_count": 10,
   "metadata": {},
   "outputs": [],
   "source": [
    "#NFC South: Saints, Panthers, Buccaneers, Falcons\n",
    "saints = make_df(\"Saints\")\n",
    "l.append(saints)\n",
    "panthers = make_df(\"Panthers\")\n",
    "l.append(panthers)\n",
    "buccaneers = make_df(\"Buccaneers\")\n",
    "l.append(buccaneers)\n",
    "falcons = make_df(\"Falcons\")\n",
    "l.append(falcons)"
   ]
  },
  {
   "cell_type": "code",
   "execution_count": 11,
   "metadata": {},
   "outputs": [],
   "source": [
    "assert len(l) <= 14"
   ]
  },
  {
   "cell_type": "code",
   "execution_count": 12,
   "metadata": {},
   "outputs": [
    {
     "data": {
      "text/plain": [
       "14"
      ]
     },
     "execution_count": 12,
     "metadata": {},
     "output_type": "execute_result"
    }
   ],
   "source": [
    "len(l)"
   ]
  },
  {
   "cell_type": "code",
   "execution_count": 13,
   "metadata": {},
   "outputs": [],
   "source": [
    "nfc = l\n",
    "for df in nfc:\n",
    "    records = pd.concat([records, df], axis = 0) "
   ]
  },
  {
   "cell_type": "code",
   "execution_count": 14,
   "metadata": {},
   "outputs": [],
   "source": [
    "nfc_records = records\n",
    "#nfc_records"
   ]
  },
  {
   "cell_type": "code",
   "execution_count": 15,
   "metadata": {},
   "outputs": [],
   "source": [
    "#TODO: create list \"afc\" to append the created dfs to (excluding the first two)\n",
    "afc = []"
   ]
  },
  {
   "cell_type": "code",
   "execution_count": 16,
   "metadata": {},
   "outputs": [],
   "source": [
    "#TODO: create afc_records by concatenating first two dfs created\n",
    "chargers = make_df(\"Chargers\")\n",
    "raiders = make_df(\"Raiders\")\n",
    "afc_records = pd.concat([chargers, raiders], axis=0)"
   ]
  },
  {
   "cell_type": "code",
   "execution_count": 17,
   "metadata": {},
   "outputs": [],
   "source": [
    "#AFC West: Chargers, Raiders, Broncos, Chiefs\n",
    "chargers = chargers\n",
    "raiders = raiders\n",
    "broncos = make_df(\"Broncos\")\n",
    "afc.append(broncos)\n",
    "chiefs = make_df(\"Chiefs\")\n",
    "afc.append(chiefs)"
   ]
  },
  {
   "cell_type": "code",
   "execution_count": 18,
   "metadata": {},
   "outputs": [],
   "source": [
    "#Titans is a special case since the nickname changed from Oilers to Titans in 1999\n",
    "titans = make_df(\"Titans\")\n",
    "for i in range(len(titans)):\n",
    "    if titans.iloc[i][\"Year\"].astype(int) < 1998: #one year earlier since int pos of series start at 1 not 0\n",
    "        titans.at[i, \"Team\"] = \"Oilers\"\n",
    "titans.at[49, \"Team\"] = \"Oilers\""
   ]
  },
  {
   "cell_type": "code",
   "execution_count": 19,
   "metadata": {},
   "outputs": [],
   "source": [
    "#AFC South: Titans, Colts, Jaguars, Texans\n",
    "colts = make_df(\"Colts\")\n",
    "afc.append(colts)\n",
    "jaguars = make_df(\"Jaguars\")\n",
    "afc.append(jaguars)\n",
    "texans = make_df(\"Texans\")\n",
    "afc.append(texans)\n",
    "titans = titans\n",
    "afc.append(titans)"
   ]
  },
  {
   "cell_type": "code",
   "execution_count": 20,
   "metadata": {},
   "outputs": [],
   "source": [
    "#AFC North: Steelers, Ravens, Bengals, Browns\n",
    "steelers = make_df(\"Steelers\")\n",
    "afc.append(steelers)\n",
    "ravens = make_df(\"Ravens\")\n",
    "afc.append(ravens)\n",
    "bengals = make_df(\"Bengals\")\n",
    "afc.append(bengals)\n",
    "browns = make_df(\"Browns\")\n",
    "afc.append(browns)"
   ]
  },
  {
   "cell_type": "code",
   "execution_count": 21,
   "metadata": {},
   "outputs": [],
   "source": [
    "#AFC East: Patriots, Jets, Dolphins, Bills\n",
    "patriots = make_df(\"Patriots\")\n",
    "afc.append(patriots)\n",
    "jets = make_df(\"Jets\")\n",
    "afc.append(jets)\n",
    "dolphins = make_df(\"Dolphins\")\n",
    "afc.append(dolphins)\n",
    "bills = make_df(\"Bills\")\n",
    "afc.append(bills)"
   ]
  },
  {
   "cell_type": "code",
   "execution_count": 22,
   "metadata": {},
   "outputs": [
    {
     "data": {
      "text/plain": [
       "14"
      ]
     },
     "execution_count": 22,
     "metadata": {},
     "output_type": "execute_result"
    }
   ],
   "source": [
    "assert len(afc) <= 14\n",
    "len(afc)"
   ]
  },
  {
   "cell_type": "code",
   "execution_count": 23,
   "metadata": {},
   "outputs": [],
   "source": [
    "#TODO: for loop to concatenate all the afc dfs\n",
    "for df in afc:\n",
    "    afc_records = pd.concat([afc_records, df], axis = 0) "
   ]
  },
  {
   "cell_type": "code",
   "execution_count": 24,
   "metadata": {},
   "outputs": [],
   "source": [
    "#afc_records"
   ]
  },
  {
   "cell_type": "code",
   "execution_count": 25,
   "metadata": {},
   "outputs": [],
   "source": [
    "#TODO: combine the afc and nfc dfs\n",
    "nfl_records = pd.concat([nfc_records, afc_records], axis=0)"
   ]
  },
  {
   "cell_type": "code",
   "execution_count": 26,
   "metadata": {},
   "outputs": [
    {
     "data": {
      "text/html": [
       "<div>\n",
       "<style scoped>\n",
       "    .dataframe tbody tr th:only-of-type {\n",
       "        vertical-align: middle;\n",
       "    }\n",
       "\n",
       "    .dataframe tbody tr th {\n",
       "        vertical-align: top;\n",
       "    }\n",
       "\n",
       "    .dataframe thead th {\n",
       "        text-align: right;\n",
       "    }\n",
       "</style>\n",
       "<table border=\"1\" class=\"dataframe\">\n",
       "  <thead>\n",
       "    <tr style=\"text-align: right;\">\n",
       "      <th></th>\n",
       "      <th>Year</th>\n",
       "      <th>Team</th>\n",
       "      <th>W</th>\n",
       "      <th>L</th>\n",
       "      <th>T</th>\n",
       "    </tr>\n",
       "  </thead>\n",
       "  <tbody>\n",
       "    <tr>\n",
       "      <th>0</th>\n",
       "      <td>2019</td>\n",
       "      <td>Packers</td>\n",
       "      <td>13</td>\n",
       "      <td>3</td>\n",
       "      <td>0</td>\n",
       "    </tr>\n",
       "    <tr>\n",
       "      <th>1</th>\n",
       "      <td>2018</td>\n",
       "      <td>Packers</td>\n",
       "      <td>6</td>\n",
       "      <td>9</td>\n",
       "      <td>1</td>\n",
       "    </tr>\n",
       "    <tr>\n",
       "      <th>2</th>\n",
       "      <td>2017</td>\n",
       "      <td>Packers</td>\n",
       "      <td>7</td>\n",
       "      <td>9</td>\n",
       "      <td>0</td>\n",
       "    </tr>\n",
       "    <tr>\n",
       "      <th>3</th>\n",
       "      <td>2016</td>\n",
       "      <td>Packers</td>\n",
       "      <td>10</td>\n",
       "      <td>6</td>\n",
       "      <td>0</td>\n",
       "    </tr>\n",
       "    <tr>\n",
       "      <th>4</th>\n",
       "      <td>2015</td>\n",
       "      <td>Packers</td>\n",
       "      <td>10</td>\n",
       "      <td>6</td>\n",
       "      <td>0</td>\n",
       "    </tr>\n",
       "    <tr>\n",
       "      <th>...</th>\n",
       "      <td>...</td>\n",
       "      <td>...</td>\n",
       "      <td>...</td>\n",
       "      <td>...</td>\n",
       "      <td>...</td>\n",
       "    </tr>\n",
       "    <tr>\n",
       "      <th>1447</th>\n",
       "      <td>1975</td>\n",
       "      <td>Bills</td>\n",
       "      <td>8</td>\n",
       "      <td>6</td>\n",
       "      <td>0</td>\n",
       "    </tr>\n",
       "    <tr>\n",
       "      <th>1448</th>\n",
       "      <td>1974</td>\n",
       "      <td>Bills</td>\n",
       "      <td>9</td>\n",
       "      <td>5</td>\n",
       "      <td>0</td>\n",
       "    </tr>\n",
       "    <tr>\n",
       "      <th>1449</th>\n",
       "      <td>1973</td>\n",
       "      <td>Bills</td>\n",
       "      <td>9</td>\n",
       "      <td>5</td>\n",
       "      <td>0</td>\n",
       "    </tr>\n",
       "    <tr>\n",
       "      <th>1450</th>\n",
       "      <td>1972</td>\n",
       "      <td>Bills</td>\n",
       "      <td>4</td>\n",
       "      <td>9</td>\n",
       "      <td>1</td>\n",
       "    </tr>\n",
       "    <tr>\n",
       "      <th>1451</th>\n",
       "      <td>1971</td>\n",
       "      <td>Bills</td>\n",
       "      <td>1</td>\n",
       "      <td>13</td>\n",
       "      <td>0</td>\n",
       "    </tr>\n",
       "  </tbody>\n",
       "</table>\n",
       "<p>1452 rows × 5 columns</p>\n",
       "</div>"
      ],
      "text/plain": [
       "      Year     Team   W   L  T\n",
       "0     2019  Packers  13   3  0\n",
       "1     2018  Packers   6   9  1\n",
       "2     2017  Packers   7   9  0\n",
       "3     2016  Packers  10   6  0\n",
       "4     2015  Packers  10   6  0\n",
       "...    ...      ...  ..  .. ..\n",
       "1447  1975    Bills   8   6  0\n",
       "1448  1974    Bills   9   5  0\n",
       "1449  1973    Bills   9   5  0\n",
       "1450  1972    Bills   4   9  1\n",
       "1451  1971    Bills   1  13  0\n",
       "\n",
       "[1452 rows x 5 columns]"
      ]
     },
     "execution_count": 26,
     "metadata": {},
     "output_type": "execute_result"
    }
   ],
   "source": [
    "#TODO: make df adjustments (typecast columns to ints instead of floats, check for others)\n",
    "nfl_records = nfl_records.reset_index(drop=True)\n",
    "nfl_records[\"Year\"] = nfl_records[\"Year\"].astype(int)\n",
    "nfl_records[\"W\"] = nfl_records[\"W\"].astype(int)\n",
    "nfl_records[\"L\"] = nfl_records[\"L\"].astype(int)\n",
    "nfl_records[\"T\"] = nfl_records[\"T\"].astype(int)\n",
    "nfl_records"
   ]
  },
  {
   "cell_type": "code",
   "execution_count": 27,
   "metadata": {},
   "outputs": [],
   "source": [
    "#TODO: write to csv\n",
    "if not os.path.exists(\"nfl_records.csv\"):\n",
    "    nfl_records.to_csv(\"nfl_records.csv\", index = False)"
   ]
  },
  {
   "cell_type": "code",
   "execution_count": 28,
   "metadata": {},
   "outputs": [],
   "source": [
    "#Teams Done and Added to l: NFC North, NFC West, NFC East, NFC South, AFC West, AFC South, AFC North, AFC East\n",
    "#TODO: "
   ]
  }
 ],
 "metadata": {
  "kernelspec": {
   "display_name": "Python 3",
   "language": "python",
   "name": "python3"
  },
  "language_info": {
   "codemirror_mode": {
    "name": "ipython",
    "version": 3
   },
   "file_extension": ".py",
   "mimetype": "text/x-python",
   "name": "python",
   "nbconvert_exporter": "python",
   "pygments_lexer": "ipython3",
   "version": "3.9.0"
  }
 },
 "nbformat": 4,
 "nbformat_minor": 4
}
